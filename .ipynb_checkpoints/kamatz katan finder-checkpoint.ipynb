{
 "cells": [
  {
   "cell_type": "code",
   "execution_count": 2,
   "metadata": {},
   "outputs": [],
   "source": [
    "import csv\n",
    "\n",
    "torah = 'torah.csv'\n",
    "megillot = 'chamesh megillot.csv'\n",
    "navi1 = 'neviim rishonim.csv'\n",
    "navi2 = 'neviim achronim.csv'\n",
    "emet = 'sifrei emet.csv'\n",
    "ketuvim = 'ketuvim.csv'\n",
    "\n",
    "\n",
    "cant = ['֑','֒','֓','֔','֕','֖','֗','֘','֙','֚','֛','֜',\n",
    "             '֝','֞','֠','֡','֢','֣','֤','֥','֦','֧','֨','֩','֪','֫','֬','֭','֯','׃']\n",
    "\n",
    "kamatz_katan = \"ׇ\""
   ]
  },
  {
   "cell_type": "code",
   "execution_count": 3,
   "metadata": {},
   "outputs": [],
   "source": [
    "#removes trop but not vowels\n",
    "def trop_remover(word):\n",
    "    no_cant_word = ''\n",
    "    for letter in word:\n",
    "        if letter not in cant:\n",
    "            no_cant_word = no_cant_word + letter\n",
    "    return no_cant_word"
   ]
  },
  {
   "cell_type": "code",
   "execution_count": 34,
   "metadata": {},
   "outputs": [],
   "source": [
    "def kamatz_katan_finder(bookset):\n",
    "    words_with_katan = {\"כׇּל\":[],\"כׇל\":[]}\n",
    "    with open(bookset, 'r', encoding='utf-8') as csvDataFile:\n",
    "        csvReader = csv.reader(csvDataFile)\n",
    "        in_range = False\n",
    "        for row in csvReader:\n",
    "            words = row[4].split(\" \")\n",
    "            for word in words:\n",
    "                if kamatz_katan not in word:\n",
    "                    continue\n",
    "                elif trop_remover(word) not in words_with_katan.keys() and \"־\" not in word:\n",
    "                    words_with_katan[trop_remover(word)] = [row[3]]\n",
    "                elif trop_remover(word) in words_with_katan.keys() and \"־\" not in word:\n",
    "                    words_with_katan[trop_remover(word)].append(row[3])\n",
    "                elif \"־\" in word:\n",
    "                    divided = word.split(\"־\")\n",
    "                    for piece in divided:\n",
    "                        piece = trop_remover(piece)\n",
    "                        if kamatz_katan in piece and \"כׇּל\" not in piece and \"כׇל\" not in piece:\n",
    "                            if trop_remover(piece) not in words_with_katan:\n",
    "                                words_with_katan[piece] = [row[3]]\n",
    "                            else:\n",
    "                                words_with_katan[trop_remover(piece)].append(row[3])\n",
    "    return words_with_katan"
   ]
  },
  {
   "cell_type": "code",
   "execution_count": 44,
   "metadata": {},
   "outputs": [],
   "source": [
    " def exporter(katandict):\n",
    "    with open(\"output.tex\",'w',encoding='utf-8') as outfile:\n",
    "        outfile.write(\"\\\\begin{itemize} \")\n",
    "        for item in katandict:\n",
    "            outfile.write(\"\\item \")\n",
    "            outfile.write(item)\n",
    "            outfile.write(\"\\n\\\\begin{itemize} \")\n",
    "            for ref in katandict[item]:\n",
    "                outfile.write(\"\\item \")\n",
    "                outfile.write(ref)\n",
    "            outfile.write(\"\\n\\end{itemize}\\n \")\n",
    "        outfile.write(\"\\end{itemize} \")"
   ]
  },
  {
   "cell_type": "code",
   "execution_count": 45,
   "metadata": {},
   "outputs": [],
   "source": [
    "exporter(kamatz_katan_finder(torah))"
   ]
  },
  {
   "cell_type": "code",
   "execution_count": null,
   "metadata": {},
   "outputs": [],
   "source": []
  }
 ],
 "metadata": {
  "kernelspec": {
   "display_name": "Python 3",
   "language": "python",
   "name": "python3"
  },
  "language_info": {
   "codemirror_mode": {
    "name": "ipython",
    "version": 3
   },
   "file_extension": ".py",
   "mimetype": "text/x-python",
   "name": "python",
   "nbconvert_exporter": "python",
   "pygments_lexer": "ipython3",
   "version": "3.7.4"
  }
 },
 "nbformat": 4,
 "nbformat_minor": 2
}
